{
  "nbformat": 4,
  "nbformat_minor": 0,
  "metadata": {
    "colab": {
      "name": "Visualização Grafos.ipynb",
      "provenance": [],
      "collapsed_sections": [],
      "authorship_tag": "ABX9TyMPtsMLHAOPxnogDhwQxJEH",
      "include_colab_link": true
    },
    "kernelspec": {
      "name": "python3",
      "display_name": "Python 3"
    },
    "language_info": {
      "name": "python"
    }
  },
  "cells": [
    {
      "cell_type": "markdown",
      "metadata": {
        "id": "view-in-github",
        "colab_type": "text"
      },
      "source": [
        "<a href=\"https://colab.research.google.com/github/EnigmA737/Projeto/blob/master/Visualiza%C3%A7%C3%A3o_Grafos.ipynb\" target=\"_parent\"><img src=\"https://colab.research.google.com/assets/colab-badge.svg\" alt=\"Open In Colab\"/></a>"
      ]
    },
    {
      "cell_type": "markdown",
      "source": [
        "# Visualização de Grafos"
      ],
      "metadata": {
        "id": "Kmg1pVEmYpbJ"
      }
    },
    {
      "cell_type": "code",
      "execution_count": null,
      "metadata": {
        "id": "DV2EdoZQYY5W"
      },
      "outputs": [],
      "source": [
        "#instala o pyvis\n",
        "!pip install pyvis"
      ]
    },
    {
      "cell_type": "code",
      "source": [
        "from pyvis.network import Network\n",
        "\n",
        "net = Network(height='400px', width='80%',notebook=True,heading='Modelo') # prepara para visualização modelo Notebook\n",
        "\n",
        "net.add_nodes([1, 2], label=['Prod1', 'Prod2'],size=[20,10]) # cria nós separados\n",
        "\n",
        "net.add_nodes([3, 4, 5, 6], \n",
        "              label=['Prod3', 'Prod4', 'Prod5', 'Prod6'],\n",
        "              color=['#3da831', '#9a31a8', '#3155a8', '#eb4034']) # cria nós definindo cores\n",
        "\n",
        "# próximos passos identificar como setar diferentes tamanhos para os nós de acordo com vendas por exemplo - OK\n",
        "# além substituir o add_nodes por uma rede de conexões completa de uma base criada pela biblioteca 'networkx'\n",
        "\t\t\t  \n",
        "net.add_edges([(2, 5,5), (3, 4), (1, 6), (2, 6), (3, 5), (4,6)]) # tuplas que apontam para as correlações\n",
        "\n",
        "#net.show_buttons(filter_=True) # é possível mostrar um menu interativo que altera o gráfico\n",
        "\n",
        "net.show('nodes.html') # cria o arquivo de visualização \n",
        "from IPython.core.display import display, HTML\n",
        "display(HTML('nodes.html')) # dá um _display_ no formato de html"
      ],
      "metadata": {
        "colab": {
          "base_uri": "https://localhost:8080/",
          "height": 476
        },
        "id": "TMXw-HvCYz-e",
        "outputId": "f6275d9f-7f08-4934-e21e-abec1732a98b"
      },
      "execution_count": 18,
      "outputs": [
        {
          "output_type": "display_data",
          "data": {
            "text/html": [
              "<html>\n",
              "<head>\n",
              "<link rel=\"stylesheet\" href=\"https://cdnjs.cloudflare.com/ajax/libs/vis/4.16.1/vis.css\" type=\"text/css\" />\n",
              "<script type=\"text/javascript\" src=\"https://cdnjs.cloudflare.com/ajax/libs/vis/4.16.1/vis-network.min.js\"> </script>\n",
              "<center>\n",
              "<h1>Modelo</h1>\n",
              "</center>\n",
              "\n",
              "<!-- <link rel=\"stylesheet\" href=\"../node_modules/vis/dist/vis.min.css\" type=\"text/css\" />\n",
              "<script type=\"text/javascript\" src=\"../node_modules/vis/dist/vis.js\"> </script>-->\n",
              "\n",
              "<style type=\"text/css\">\n",
              "\n",
              "        #mynetwork {\n",
              "            width: 80%;\n",
              "            height: 400px;\n",
              "            background-color: #ffffff;\n",
              "            border: 1px solid lightgray;\n",
              "            position: relative;\n",
              "            float: left;\n",
              "        }\n",
              "\n",
              "        \n",
              "\n",
              "        \n",
              "\n",
              "        \n",
              "</style>\n",
              "\n",
              "</head>\n",
              "\n",
              "<body>\n",
              "<div id = \"mynetwork\"></div>\n",
              "\n",
              "\n",
              "<script type=\"text/javascript\">\n",
              "\n",
              "    // initialize global variables.\n",
              "    var edges;\n",
              "    var nodes;\n",
              "    var network; \n",
              "    var container;\n",
              "    var options, data;\n",
              "\n",
              "    \n",
              "    // This method is responsible for drawing the graph, returns the drawn network\n",
              "    function drawGraph() {\n",
              "        var container = document.getElementById('mynetwork');\n",
              "        \n",
              "        \n",
              "\n",
              "        // parsing and collecting nodes and edges from the python\n",
              "        nodes = new vis.DataSet([{\"id\": 1, \"label\": \"Prod1\", \"shape\": \"dot\", \"size\": 20}, {\"id\": 2, \"label\": \"Prod2\", \"shape\": \"dot\", \"size\": 10}, {\"color\": \"#3da831\", \"id\": 3, \"label\": \"Prod3\", \"shape\": \"dot\"}, {\"color\": \"#9a31a8\", \"id\": 4, \"label\": \"Prod4\", \"shape\": \"dot\"}, {\"color\": \"#3155a8\", \"id\": 5, \"label\": \"Prod5\", \"shape\": \"dot\"}, {\"color\": \"#eb4034\", \"id\": 6, \"label\": \"Prod6\", \"shape\": \"dot\"}]);\n",
              "        edges = new vis.DataSet([{\"from\": 2, \"to\": 5, \"width\": 5}, {\"from\": 3, \"to\": 4}, {\"from\": 1, \"to\": 6}, {\"from\": 2, \"to\": 6}, {\"from\": 3, \"to\": 5}, {\"from\": 4, \"to\": 6}]);\n",
              "\n",
              "        // adding nodes and edges to the graph\n",
              "        data = {nodes: nodes, edges: edges};\n",
              "\n",
              "        var options = {\n",
              "    \"configure\": {\n",
              "        \"enabled\": false\n",
              "    },\n",
              "    \"edges\": {\n",
              "        \"color\": {\n",
              "            \"inherit\": true\n",
              "        },\n",
              "        \"smooth\": {\n",
              "            \"enabled\": false,\n",
              "            \"type\": \"continuous\"\n",
              "        }\n",
              "    },\n",
              "    \"interaction\": {\n",
              "        \"dragNodes\": true,\n",
              "        \"hideEdgesOnDrag\": false,\n",
              "        \"hideNodesOnDrag\": false\n",
              "    },\n",
              "    \"physics\": {\n",
              "        \"enabled\": true,\n",
              "        \"stabilization\": {\n",
              "            \"enabled\": true,\n",
              "            \"fit\": true,\n",
              "            \"iterations\": 1000,\n",
              "            \"onlyDynamicEdges\": false,\n",
              "            \"updateInterval\": 50\n",
              "        }\n",
              "    }\n",
              "};\n",
              "        \n",
              "        \n",
              "\n",
              "        \n",
              "\n",
              "        network = new vis.Network(container, data, options);\n",
              "\t \n",
              "        \n",
              "\n",
              "\n",
              "        \n",
              "\n",
              "        return network;\n",
              "\n",
              "    }\n",
              "\n",
              "    drawGraph();\n",
              "\n",
              "</script>\n",
              "</body>\n",
              "</html>"
            ],
            "text/plain": [
              "<IPython.core.display.HTML object>"
            ]
          },
          "metadata": {}
        }
      ]
    }
  ]
}